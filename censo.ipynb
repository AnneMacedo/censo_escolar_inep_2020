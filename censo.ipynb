{
 "cells": [
  {
   "cell_type": "code",
   "execution_count": 1,
   "metadata": {},
   "outputs": [],
   "source": [
    "#importando bibliotecas\n",
    "import pandas as pd \n",
    "import csv, sqlite3\n",
    "import os\n",
    "import re"
   ]
  },
  {
   "cell_type": "code",
   "execution_count": 2,
   "metadata": {
    "_cell_guid": "b1076dfc-b9ad-4769-8c92-a6c4dae69d19",
    "_uuid": "8f2839f25d086af736a60e9eeb907d3b93b6e0e5"
   },
   "outputs": [],
   "source": [
    "con = sqlite3.connect(\"./censo_matricula.db\") \n",
    "cur = con.cursor()"
   ]
  },
  {
   "cell_type": "code",
   "execution_count": 3,
   "metadata": {},
   "outputs": [
    {
     "data": {
      "text/plain": [
       "<sqlite3.Cursor at 0x20c719125e0>"
      ]
     },
     "execution_count": 3,
     "metadata": {},
     "output_type": "execute_result"
    }
   ],
   "source": [
    "cur.execute('DROP TABLE IF EXISTS matricula')\n",
    "cols = re.sub(u'[^a-zA-Z0-9,_]', '', str(list(csv.reader(open('dados/matricula_co-000.CSV', 'r'),delimiter=','))[0]))\n",
    "cur.execute(\"CREATE TABLE IF NOT EXISTS matricula (\"+cols+\");\")"
   ]
  },
  {
   "cell_type": "code",
   "execution_count": 4,
   "metadata": {},
   "outputs": [],
   "source": [
    "files = [] \n",
    "for diretorio, subpastas, arquivos in os.walk('dados'):\n",
    "    for arquivo in arquivos:\n",
    "        files.append(os.path.join(os.path.realpath(diretorio), arquivo))"
   ]
  },
  {
   "cell_type": "code",
   "execution_count": 5,
   "metadata": {},
   "outputs": [],
   "source": [
    "def ingerir_dados(i):\n",
    "    with open(i, 'r') as read_obj:\n",
    "        try:\n",
    "            rows = list(csv.reader(read_obj,delimiter=','))\n",
    "            if rows[0] == cols.split(','): \n",
    "                rows.pop(0)\n",
    "            cur.executemany(\"INSERT INTO matricula (\"+cols+\") VALUES (\"+(\"?,\"*102)+\"?);\",rows)\n",
    "        except:\n",
    "            return i"
   ]
  },
  {
   "cell_type": "code",
   "execution_count": 6,
   "metadata": {},
   "outputs": [],
   "source": [
    "for i in files:\n",
    "   ingerir_dados(i)"
   ]
  },
  {
   "cell_type": "code",
   "execution_count": 7,
   "metadata": {},
   "outputs": [],
   "source": [
    "con.commit()"
   ]
  },
  {
   "cell_type": "code",
   "execution_count": 8,
   "metadata": {},
   "outputs": [
    {
     "name": "stdout",
     "output_type": "stream",
     "text": [
      "RO substituido por: 11\n",
      "AC substituido por: 12\n",
      "AM substituido por: 13\n",
      "RR substituido por: 14\n",
      "PA substituido por: 15\n",
      "AP substituido por: 16\n",
      "TO substituido por: 17\n",
      "MA substituido por: 21\n",
      "PI substituido por: 22\n",
      "CE substituido por: 23\n",
      "RN substituido por: 24\n",
      "PB substituido por: 25\n",
      "PE substituido por: 26\n",
      "AL substituido por: 27\n",
      "SE substituido por: 28\n",
      "BA substituido por: 29\n",
      "MG substituido por: 31\n",
      "ES substituido por: 32\n",
      "RJ substituido por: 33\n",
      "SP substituido por: 35\n",
      "PR substituido por: 41\n",
      "SC substituido por: 42\n",
      "RS substituido por: 43\n",
      "MS substituido por: 50\n",
      "MT substituido por: 51\n",
      "GO substituido por: 52\n",
      "DF substituido por: 53\n"
     ]
    }
   ],
   "source": [
    "with open('UF.csv', 'r') as read_obj:\n",
    "    rows = list(csv.reader(read_obj,delimiter=';'))\n",
    "    for i in rows:\n",
    "        cur.execute('UPDATE MATRICULA SET CO_UF= \"'+i[1]+'\" WHERE CO_UF=\"'+i[0]+'\";')\n",
    "        print(i[1]+' substituido por: '+i[0])"
   ]
  },
  {
   "cell_type": "code",
   "execution_count": 9,
   "metadata": {},
   "outputs": [
    {
     "name": "stdout",
     "output_type": "stream",
     "text": [
      "Sem informacao substituido por: 0\n",
      "Branca substituido por: 1\n",
      "Preta substituido por: 2\n",
      "Parda substituido por: 3\n",
      "Amarela substituido por: 4\n",
      "Indigena substituido por: 5\n"
     ]
    }
   ],
   "source": [
    "with open('COR.csv', 'r') as read_obj:\n",
    "    rows = list(csv.reader(read_obj,delimiter=';'))\n",
    "    for i in rows:\n",
    "        cur.execute('UPDATE MATRICULA SET TP_COR_RACA= \"'+i[1]+'\" WHERE TP_COR_RACA=\"'+i[0]+'\";')\n",
    "        print(i[1]+' substituido por: '+i[0])"
   ]
  },
  {
   "cell_type": "code",
   "execution_count": 15,
   "metadata": {},
   "outputs": [
    {
     "name": "stdout",
     "output_type": "stream",
     "text": [
      "('SP', '14', 596248)\n",
      "('MG', '14', 251900)\n",
      "('RJ', '14', 224759)\n",
      "('BA', '14', 177876)\n",
      "('PR', '14', 158475)\n",
      "('RS', '14', 139228)\n",
      "('PE', '14', 121167)\n",
      "('CE', '14', 109253)\n",
      "('MA', '14', 104128)\n",
      "('PA', '14', 100714)\n"
     ]
    }
   ],
   "source": [
    "#Questão 1 - o código 14 representa matriculas no Ensino Fundamental de 9 anos\n",
    "cur.execute(\"SELECT CO_UF,TP_ETAPA_ENSINO,COUNT(*) FROM matricula GROUP BY CO_UF, TP_ETAPA_ENSINO HAVING TP_ETAPA_ENSINO='14' ORDER BY COUNT(*) DESC LIMIT 10\")\n",
    "q1 = cur.fetchall()\n",
    "for i in q1:\n",
    "    print(i)"
   ]
  },
  {
   "cell_type": "code",
   "execution_count": 12,
   "metadata": {},
   "outputs": [
    {
     "name": "stdout",
     "output_type": "stream",
     "text": [
      "('AC', 'Amarela', 749)\n",
      "('AC', 'Branca', 18641)\n",
      "('AC', 'Indigena', 9517)\n",
      "('AC', 'Parda', 100006)\n",
      "('AC', 'Preta', 2360)\n",
      "('AC', 'Sem informacao', 63055)\n",
      "('AL', 'Amarela', 2243)\n",
      "('AL', 'Branca', 96532)\n",
      "('AL', 'Indigena', 4638)\n",
      "('AL', 'Parda', 451241)\n",
      "('AL', 'Preta', 17334)\n",
      "('AL', 'Sem informacao', 234691)\n",
      "('AM', 'Amarela', 859)\n",
      "('AM', 'Branca', 45854)\n",
      "('AM', 'Indigena', 54494)\n",
      "('AM', 'Parda', 407322)\n",
      "('AM', 'Preta', 4823)\n",
      "('AM', 'Sem informacao', 91087)\n",
      "('AP', 'Amarela', 400)\n",
      "('AP', 'Branca', 20432)\n",
      "('AP', 'Indigena', 5017)\n",
      "('AP', 'Parda', 106641)\n",
      "('AP', 'Preta', 4758)\n",
      "('AP', 'Sem informacao', 44263)\n",
      "('BA', 'Amarela', 14178)\n",
      "('BA', 'Branca', 278153)\n",
      "('BA', 'Indigena', 15257)\n",
      "('BA', 'Parda', 1525568)\n",
      "('BA', 'Preta', 283209)\n",
      "('BA', 'Sem informacao', 1212400)\n",
      "('CE', 'Amarela', 4537)\n",
      "('CE', 'Branca', 283231)\n",
      "('CE', 'Indigena', 9691)\n",
      "('CE', 'Parda', 1299535)\n",
      "('CE', 'Preta', 22318)\n",
      "('CE', 'Sem informacao', 556727)\n",
      "('DF', 'Amarela', 3089)\n",
      "('DF', 'Branca', 188210)\n",
      "('DF', 'Indigena', 717)\n",
      "('DF', 'Parda', 273040)\n",
      "('DF', 'Preta', 21643)\n",
      "('DF', 'Sem informacao', 237766)\n",
      "('ES', 'Amarela', 2290)\n",
      "('ES', 'Branca', 277711)\n",
      "('ES', 'Indigena', 2058)\n",
      "('ES', 'Parda', 486357)\n",
      "('ES', 'Preta', 46265)\n",
      "('ES', 'Sem informacao', 101141)\n",
      "('GO', 'Amarela', 7419)\n",
      "('GO', 'Branca', 296904)\n",
      "('GO', 'Indigena', 944)\n",
      "('GO', 'Parda', 548357)\n",
      "('GO', 'Preta', 29776)\n",
      "('GO', 'Sem informacao', 626271)\n",
      "('MA', 'Amarela', 6115)\n",
      "('MA', 'Branca', 156891)\n",
      "('MA', 'Indigena', 17905)\n",
      "('MA', 'Parda', 1081168)\n",
      "('MA', 'Preta', 39565)\n",
      "('MA', 'Sem informacao', 650123)\n",
      "('MG', 'Amarela', 11087)\n",
      "('MG', 'Branca', 1536758)\n",
      "('MG', 'Indigena', 6454)\n",
      "('MG', 'Parda', 1962515)\n",
      "('MG', 'Preta', 254240)\n",
      "('MG', 'Sem informacao', 723404)\n",
      "('MS', 'Amarela', 1983)\n",
      "('MS', 'Branca', 301257)\n",
      "('MS', 'Indigena', 29692)\n",
      "('MS', 'Parda', 291458)\n",
      "('MS', 'Preta', 11913)\n",
      "('MS', 'Sem informacao', 62542)\n",
      "('MT', 'Amarela', 1344)\n",
      "('MT', 'Branca', 112863)\n",
      "('MT', 'Indigena', 19259)\n",
      "('MT', 'Parda', 175503)\n",
      "('MT', 'Preta', 10121)\n",
      "('MT', 'Sem informacao', 552394)\n",
      "('PA', 'Amarela', 2831)\n",
      "('PA', 'Branca', 119354)\n",
      "('PA', 'Indigena', 14830)\n",
      "('PA', 'Parda', 674703)\n",
      "('PA', 'Preta', 26693)\n",
      "('PA', 'Sem informacao', 659980)\n",
      "('PB', 'Amarela', 4217)\n",
      "('PB', 'Branca', 170893)\n",
      "('PB', 'Indigena', 6694)\n",
      "('PB', 'Parda', 467184)\n",
      "('PB', 'Preta', 20433)\n",
      "('PB', 'Sem informacao', 237321)\n",
      "('PE', 'Amarela', 6469)\n",
      "('PE', 'Branca', 358274)\n",
      "('PE', 'Indigena', 16242)\n",
      "('PE', 'Parda', 907709)\n",
      "('PE', 'Preta', 55993)\n",
      "('PE', 'Sem informacao', 735121)\n",
      "('PI', 'Amarela', 5473)\n",
      "('PI', 'Branca', 89990)\n",
      "('PI', 'Indigena', 749)\n",
      "('PI', 'Parda', 478133)\n",
      "('PI', 'Preta', 26367)\n",
      "('PI', 'Sem informacao', 209612)\n",
      "('PR', 'Amarela', 12070)\n",
      "('PR', 'Branca', 1676540)\n",
      "('PR', 'Indigena', 8782)\n",
      "('PR', 'Parda', 501167)\n",
      "('PR', 'Preta', 37239)\n",
      "('PR', 'Sem informacao', 495923)\n",
      "('RJ', 'Amarela', 7270)\n",
      "('RJ', 'Branca', 982078)\n",
      "('RJ', 'Indigena', 2348)\n",
      "('RJ', 'Parda', 1056831)\n",
      "('RJ', 'Preta', 254532)\n",
      "('RJ', 'Sem informacao', 1314915)\n",
      "('RN', 'Amarela', 3922)\n",
      "('RN', 'Branca', 183205)\n",
      "('RN', 'Indigena', 1535)\n",
      "('RN', 'Parda', 303382)\n",
      "('RN', 'Preta', 16425)\n",
      "('RN', 'Sem informacao', 269918)\n",
      "('RO', 'Amarela', 1486)\n",
      "('RO', 'Branca', 64391)\n",
      "('RO', 'Indigena', 3737)\n",
      "('RO', 'Parda', 151549)\n",
      "('RO', 'Preta', 6883)\n",
      "('RO', 'Sem informacao', 58461)\n",
      "('RR', 'Amarela', 200)\n",
      "('RR', 'Branca', 12757)\n",
      "('RR', 'Indigena', 22287)\n",
      "('RR', 'Parda', 64012)\n",
      "('RR', 'Preta', 1793)\n",
      "('RR', 'Sem informacao', 28315)\n",
      "('RS', 'Amarela', 3140)\n",
      "('RS', 'Branca', 1506891)\n",
      "('RS', 'Indigena', 10732)\n",
      "('RS', 'Parda', 183702)\n",
      "('RS', 'Preta', 99529)\n",
      "('RS', 'Sem informacao', 573011)\n",
      "('SC', 'Amarela', 2454)\n",
      "('SC', 'Branca', 1135994)\n",
      "('SC', 'Indigena', 4755)\n",
      "('SC', 'Parda', 150974)\n",
      "('SC', 'Preta', 40611)\n",
      "('SC', 'Sem informacao', 382176)\n",
      "('SE', 'Amarela', 2010)\n",
      "('SE', 'Branca', 52303)\n",
      "('SE', 'Indigena', 580)\n",
      "('SE', 'Parda', 270933)\n",
      "('SE', 'Preta', 15195)\n",
      "('SE', 'Sem informacao', 143919)\n",
      "('SP', 'Amarela', 41200)\n",
      "('SP', 'Branca', 5568355)\n",
      "('SP', 'Indigena', 12628)\n",
      "('SP', 'Parda', 2266038)\n",
      "('SP', 'Preta', 265308)\n",
      "('SP', 'Sem informacao', 2246402)\n",
      "('TO', 'Amarela', 1888)\n",
      "('TO', 'Branca', 56298)\n",
      "('TO', 'Indigena', 5666)\n",
      "('TO', 'Parda', 202284)\n",
      "('TO', 'Preta', 12050)\n",
      "('TO', 'Sem informacao', 49546)\n"
     ]
    }
   ],
   "source": [
    "#Questão 2\n",
    "cur.execute(\"SELECT CO_UF,TP_COR_RACA, COUNT(TP_COR_RACA) FROM matricula GROUP BY CO_UF,TP_COR_RACA\")\n",
    "q2 = cur.fetchall()\n",
    "for i in q2:\n",
    "    print(i)"
   ]
  },
  {
   "cell_type": "code",
   "execution_count": 16,
   "metadata": {},
   "outputs": [],
   "source": [
    "con.commit()\n",
    "con.close()"
   ]
  }
 ],
 "metadata": {
  "kernelspec": {
   "display_name": "Python 3",
   "language": "python",
   "name": "python3"
  },
  "language_info": {
   "codemirror_mode": {
    "name": "ipython",
    "version": 3
   },
   "file_extension": ".py",
   "mimetype": "text/x-python",
   "name": "python",
   "nbconvert_exporter": "python",
   "pygments_lexer": "ipython3",
   "version": "3.8.3"
  }
 },
 "nbformat": 4,
 "nbformat_minor": 4
}
